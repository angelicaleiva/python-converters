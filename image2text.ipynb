{
 "cells": [
  {
   "cell_type": "markdown",
   "metadata": {},
   "source": [
    "## Introduction\n",
    "This notebook provides a utility for converting images to text using Optical Character Recognition (OCR). It takes a folder of images (.jpg, .png, .tiff) as input and generates text files using the Tesseract library."
   ]
  },
  {
   "cell_type": "markdown",
   "metadata": {},
   "source": [
    "# Image to text"
   ]
  },
  {
   "cell_type": "code",
   "execution_count": null,
   "metadata": {},
   "outputs": [],
   "source": [
    "#Import libraries \n",
    "import os\n",
    "import glob\n",
    "import numpy as np\n",
    "import pytesseract as pt\n",
    "\n",
    "from tqdm import tqdm"
   ]
  },
  {
   "cell_type": "markdown",
   "metadata": {},
   "source": [
    "### Convert image to text"
   ]
  },
  {
   "cell_type": "code",
   "execution_count": null,
   "metadata": {},
   "outputs": [],
   "source": [
    "def convert_image_to_text(image_path, output_folder):\n",
    "    \"\"\"Converts an image to text using OCR.\n",
    "    \n",
    "    Args:\n",
    "    image_path (str): The path to the image file.\n",
    "    output_folder (str): The folder where the text file will be saved.\n",
    "    \"\"\"\n",
    "    name, ext = os.path.splitext(image_path)\n",
    "    if ext in [\".jpg\", \".png\", \".tiff\"]:\n",
    "        img = cv2.imread(image_path)\n",
    "        gray = cv2.cvtColor(img, cv2.COLOR_RGB2GRAY)\n",
    "        gray, img_bin = cv2.threshold(gray, 128, 255, cv2.THRESH_BINARY | cv2.THRESH_OTSU)\n",
    "        gray = cv2.bitwise_not(img_bin)\n",
    "        kernel = np.ones((2,1), np.uint8)\n",
    "        img = cv2.erode(gray, kernel, iterations=1)\n",
    "        img = cv2.dilate(img, kernel, iterations=1)\n",
    "        output = pt.image_to_string(img)\n",
    "        with open(f\"{output_folder}/{name}.txt\", 'w') as file:\n",
    "            file.write(output)"
   ]
  },
  {
   "cell_type": "code",
   "execution_count": null,
   "metadata": {},
   "outputs": [],
   "source": [
    "# Image folder\n",
    "image_folder = glob.glob('./data/raw/*')\n",
    "output_folder = \"./data/processed/\"\n",
    "\n",
    "for file in tqdm(image_folder):\n",
    "    convert_image_to_text(file, output_folder)"
   ]
  }
 ],
 "metadata": {
  "kernelspec": {
   "display_name": "Python 3 (ipykernel)",
   "language": "python",
   "name": "python3"
  },
  "language_info": {
   "codemirror_mode": {
    "name": "ipython",
    "version": 3
   },
   "file_extension": ".py",
   "mimetype": "text/x-python",
   "name": "python",
   "nbconvert_exporter": "python",
   "pygments_lexer": "ipython3",
   "version": "3.8.12"
  }
 },
 "nbformat": 4,
 "nbformat_minor": 4
}
