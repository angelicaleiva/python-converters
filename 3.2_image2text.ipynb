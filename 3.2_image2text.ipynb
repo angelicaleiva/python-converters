{
 "cells": [
  {
   "cell_type": "markdown",
   "metadata": {},
   "source": [
    "# Image to text"
   ]
  },
  {
   "cell_type": "code",
   "execution_count": null,
   "metadata": {},
   "outputs": [],
   "source": [
    "#Import libraries \n",
    "import pytesseract as pt\n",
    "import numpy as np\n",
    "import os\n",
    "import glob\n",
    "from tqdm import tqdm"
   ]
  },
  {
   "cell_type": "markdown",
   "metadata": {},
   "source": [
    "### Convert image to text"
   ]
  },
  {
   "cell_type": "code",
   "execution_count": null,
   "metadata": {},
   "outputs": [],
   "source": [
    "# Image folder\n",
    "image_folder = glob.glob('./data/raw/*')\n",
    "\n",
    "for file in tqdm(image_folder):\n",
    "    name, ext = os.path.splitext(file)\n",
    "    # Filter extensions files\n",
    "    if ext == \".jpg\" or ext == \".png\" or ext == \".tiff\":    \n",
    "        # Read image\n",
    "        img = cv2.imread(file)\n",
    "        # Convert to grayscale\n",
    "        gray = cv2.cvtColor(img, cv2.COLOR_RGB2GRAY)\n",
    "        # Binarize image \n",
    "        gray, img_bin = cv2.threshold(gray, 128, 255, cv2.THRESH_BINARY | cv2.THRESH_OTSU)\n",
    "        gray = cv2.bitwise_not(img_bin)\n",
    "        # Define kernel\n",
    "        kernel = np.ones((2,1), np.uint8) \n",
    "        # Eroding\n",
    "        img = cv2.erode(gray, kernel, iterations=1)\n",
    "        # Dilating\n",
    "        img = cv2.dilate(img, kernel, iterations=1)\n",
    "        # Output\n",
    "        output = pt.image_to_string(img)\n",
    "        # Save text\n",
    "        with open(\"../data/processed/\"+\"{0}.txt\".format(name),mode = 'w') as file:\n",
    "             file.write(output)\n"
   ]
  }
 ],
 "metadata": {
  "kernelspec": {
   "display_name": "Python 3 (ipykernel)",
   "language": "python",
   "name": "python3"
  },
  "language_info": {
   "codemirror_mode": {
    "name": "ipython",
    "version": 3
   },
   "file_extension": ".py",
   "mimetype": "text/x-python",
   "name": "python",
   "nbconvert_exporter": "python",
   "pygments_lexer": "ipython3",
   "version": "3.8.12"
  }
 },
 "nbformat": 4,
 "nbformat_minor": 4
}
