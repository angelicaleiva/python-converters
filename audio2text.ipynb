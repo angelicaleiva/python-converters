{
 "cells": [
  {
   "cell_type": "markdown",
   "metadata": {},
   "source": [
    "## Introduction\n",
    "This notebook provides a utility for converting audio files to text. It takes a folder of .mp3 files as input and generates transcriptions using the `speech_recognition` library."
   ]
  },
  {
   "cell_type": "markdown",
   "metadata": {},
   "source": [
    "# Audio to Text Converter"
   ]
  },
  {
   "cell_type": "code",
   "execution_count": null,
   "metadata": {},
   "outputs": [],
   "source": [
    "# Import libraries \n",
    "import os\n",
    "import glob\n",
    "import speech_recognition as sr\n",
    "\n",
    "from tqdm import tqdm\n",
    "from pydub import AudioSegment\n",
    "from pydub.silence import split_on_silence"
   ]
  },
  {
   "cell_type": "markdown",
   "metadata": {},
   "source": [
    "### Convert audio folder from mp3 to wav"
   ]
  },
  {
   "cell_type": "code",
   "execution_count": null,
   "metadata": {},
   "outputs": [],
   "source": [
    "def convert_mp3_to_wav(input_folder, output_folder):\n",
    "    \"\"\"Converts MP3 files to WAV format.\n",
    "    \n",
    "    Args:\n",
    "    input_folder (str): The folder containing the MP3 files.\n",
    "    output_folder (str): The folder where the WAV files will be saved.\n",
    "    \"\"\"\n",
    "    filelist = glob.glob(input_folder)\n",
    "    for file in tqdm(filelist):\n",
    "        name, ext = os.path.splitext(file)\n",
    "        if ext == \".mp3\":\n",
    "            audio_mp3 = AudioSegment.from_file(file)\n",
    "            audio_mp3.export(f\"{output_folder}/{name}.wav\", format=\"wav\")"
   ]
  },
  {
   "cell_type": "code",
   "execution_count": null,
   "metadata": {},
   "outputs": [],
   "source": []
  },
  {
   "cell_type": "code",
   "execution_count": null,
   "metadata": {},
   "outputs": [],
   "source": [
    "# Audio folder\n",
    "path_mp3 = '../data/raw/*'\n",
    "# Output folder\n",
    "path_wav = '../data/interim/'\n",
    "\n",
    "# File list\n",
    "filelist = glob.glob(path_mp3)\n",
    "\n",
    "# Convert mp3 to wav\n",
    "convert_mp3_to_wav(path_mp3, path_wav)"
   ]
  },
  {
   "cell_type": "markdown",
   "metadata": {},
   "source": [
    "### Convert all audios in a folder to text, using chunks"
   ]
  },
  {
   "cell_type": "code",
   "execution_count": null,
   "metadata": {},
   "outputs": [],
   "source": [
    "# Start speech recognizer\n",
    "recognizer = sr.Recognizer()\n",
    "\n",
    "# audio folder\n",
    "path_wav = './data/interim/'\n",
    "# output folder\n",
    "path_text = './data/processed/'\n",
    "\n",
    "# File list\n",
    "filelist = glob.glob(path_wav)\n",
    "\n",
    "## Read wav files\n",
    "for file in tqdm(filelist):\n",
    "    name, ext = os.path.splitext(file)\n",
    "    # Filter wav extension\n",
    "    if ext == \".wav\":    \n",
    "        # Define audio file\n",
    "        audio_file = AudioSegment.from_file(file)\n",
    "        \n",
    "        # split audio when silence is longer than 700 milliseconds\n",
    "        chunks = split_on_silence(audio_file, min_silence_len = 500, silence_thresh = audio_file.dBFS-14, keep_silence=500)\n",
    "        \n",
    "        chunks_folder = \"audio-chunks\"\n",
    "        \n",
    "        # create folder to save audio chunks\n",
    "        if not os.path.isdir(chunks_folder):\n",
    "            os.mkdir(chunks_folder )\n",
    "        \n",
    "        full_text = \"\"\n",
    "        \n",
    "        # process every chunk\n",
    "        for i, audio_chunk in enumerate(chunks, start=1):\n",
    "            # export chunk and save \n",
    "            chunks_file = os.path.join(chunks_folder, f\"chunk{i}.wav\")\n",
    "            audio_chunk.export(chunks_file, format=\"wav\")\n",
    "            # Speech recognition \n",
    "            with sr.AudioFile(chunks_file) as source:\n",
    "                recognizer.adjust_for_ambient_noise(source) # Adjusts to eliminate ambient sound\n",
    "                audio = recognizer.record(source) # Read audio\n",
    "                try:\n",
    "                    text = recognizer.recognize_google(audio, language='es-CL') # Text recognized\n",
    "                    # Export to text file   \n",
    "                except sr.UnknownValueError:\n",
    "                       print(\"Audio not understandable\")\n",
    "                except sr.RequestError as e:\n",
    "                       print(\"No requirement obtained {0}\".format(e))\n",
    "                else:\n",
    "                    text = f\"{text.capitalize()}. \"\n",
    "                    full_text += text\n",
    "                    with open(path_text+\"{0}.txt\".format(name),mode = 'w') as file:\n",
    "                        file.write(full_text)\n",
    "                        file.write(\"/n\")\n",
    "        \n"
   ]
  },
  {
   "cell_type": "markdown",
   "metadata": {},
   "source": [
    "## Conclusion\n",
    "This notebook offers a straightforward way to convert audio files into text. It can be extended to support more audio formats or to improve the accuracy of the transcriptions."
   ]
  },
  {
   "cell_type": "code",
   "execution_count": null,
   "metadata": {},
   "outputs": [],
   "source": []
  }
 ],
 "metadata": {
  "kernelspec": {
   "display_name": "Python 3 (ipykernel)",
   "language": "python",
   "name": "python3"
  },
  "language_info": {
   "codemirror_mode": {
    "name": "ipython",
    "version": 3
   },
   "file_extension": ".py",
   "mimetype": "text/x-python",
   "name": "python",
   "nbconvert_exporter": "python",
   "pygments_lexer": "ipython3",
   "version": "3.8.12"
  }
 },
 "nbformat": 4,
 "nbformat_minor": 4
}
